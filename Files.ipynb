{
 "cells": [
  {
   "cell_type": "code",
   "execution_count": null,
   "metadata": {},
   "outputs": [],
   "source": [
    "- Collection of records.\n",
    "- Store the data permanently.\n",
    "- 2 types\n",
    "1. Text files\n",
    "  - Alphabets & Numbers\n",
    "  - Special characters\n",
    "2. Binary files\n",
    "  - Images\n",
    "     - .jpeg\n",
    "     - .jpg\n",
    "     - .png\n",
    "     - bitmap\n",
    "  - Videos\n",
    "  - Audios\n",
    "  - Gif "
   ]
  },
  {
   "cell_type": "code",
   "execution_count": null,
   "metadata": {},
   "outputs": [],
   "source": [
    "For every file we should first open it to read the file"
   ]
  },
  {
   "cell_type": "markdown",
   "metadata": {},
   "source": [
    "## Opening the File"
   ]
  },
  {
   "cell_type": "code",
   "execution_count": null,
   "metadata": {},
   "outputs": [],
   "source": [
    "f=open(filename,mode)\n",
    "Ex: f=open('tanuja.txt','r')"
   ]
  },
  {
   "cell_type": "code",
   "execution_count": null,
   "metadata": {},
   "outputs": [],
   "source": [
    "- Modes\n",
    "r -> read mode --> if that file not exists, then FileNotFound execption occurs.\n",
    "w -> write mode --> if file exists, data gets override, if not exists new file is created\n",
    "a -> append mode --> if file exists, data doesnot overrides data will be added to the existing data in the file if not exists, new file is created.\n",
    "r+ -> \n",
    "a+ -> append & read --> doenot overides\n",
    "x -> exclusive mode --> especially for writing the data if file not exists . if file exists, then we get FileExistsError"
   ]
  },
  {
   "cell_type": "code",
   "execution_count": null,
   "metadata": {},
   "outputs": [],
   "source": [
    "rb -> read binary\n",
    "wb -> write binary\n",
    "r+b -> read & write\n",
    "w+b -> write & read binary\n",
    "a+b -> read & append \n",
    "xb"
   ]
  },
  {
   "cell_type": "markdown",
   "metadata": {},
   "source": [
    "## Closing the file"
   ]
  },
  {
   "cell_type": "code",
   "execution_count": null,
   "metadata": {},
   "outputs": [],
   "source": [
    "f.close()"
   ]
  }
 ],
 "metadata": {
  "kernelspec": {
   "display_name": "Python 3",
   "language": "python",
   "name": "python3"
  },
  "language_info": {
   "codemirror_mode": {
    "name": "ipython",
    "version": 3
   },
   "file_extension": ".py",
   "mimetype": "text/x-python",
   "name": "python",
   "nbconvert_exporter": "python",
   "pygments_lexer": "ipython3",
   "version": "3.8.3"
  }
 },
 "nbformat": 4,
 "nbformat_minor": 4
}
